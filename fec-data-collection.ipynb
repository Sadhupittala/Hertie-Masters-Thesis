{
 "cells": [
  {
   "cell_type": "markdown",
   "id": "e6a731e9",
   "metadata": {},
   "source": [
    "The purpose of this notebook is for collection of FEC data for Bernie Sanders and Ted Cruz. We will be using their committee ID's to segregate their respective data.\n",
    "\n",
    "2015-2016:\n",
    "- Bernie Sanders: C00577130\n",
    "- Ted Cruz: C00574624\n",
    "\n",
    "2019-2020:\n"
   ]
  },
  {
   "cell_type": "code",
   "execution_count": 3,
   "id": "1ac761ca",
   "metadata": {},
   "outputs": [],
   "source": [
    "import pandas as pd\n",
    "import csv"
   ]
  },
  {
   "cell_type": "code",
   "execution_count": 4,
   "id": "26bd1e77",
   "metadata": {},
   "outputs": [
    {
     "data": {
      "text/plain": [
       "['CMTE_ID',\n",
       " 'AMNDT_IND',\n",
       " 'RPT_TP',\n",
       " 'TRANSACTION_PGI',\n",
       " 'IMAGE_NUM',\n",
       " 'TRANSACTION_TP',\n",
       " 'ENTITY_TP',\n",
       " 'NAME',\n",
       " 'CITY',\n",
       " 'STATE',\n",
       " 'ZIP_CODE',\n",
       " 'EMPLOYER',\n",
       " 'OCCUPATION',\n",
       " 'TRANSACTION_DT',\n",
       " 'TRANSACTION_AMT',\n",
       " 'OTHER_ID',\n",
       " 'TRAN_ID',\n",
       " 'FILE_NUM',\n",
       " 'MEMO_CD',\n",
       " 'MEMO_TEXT',\n",
       " 'SUB_ID']"
      ]
     },
     "execution_count": 4,
     "metadata": {},
     "output_type": "execute_result"
    }
   ],
   "source": [
    "# get headers\n",
    "headers = None\n",
    "with open(\"indiv_header_file.csv\") as csvf:\n",
    "    header = csv.reader(csvf, delimiter= \",\")\n",
    "    for row in header:\n",
    "        headers = row\n",
    "headers"
   ]
  },
  {
   "cell_type": "code",
   "execution_count": 16,
   "id": "a3e0c0ce",
   "metadata": {},
   "outputs": [
    {
     "name": "stdout",
     "output_type": "stream",
     "text": [
      "C00088591|N|M3|P|15970306895|15|IND|BURCH, MARY K.|FALLS CHURCH|VA|220424511|NORTHROP GRUMMAN|VP PROGRAM MANAGEMENT|02132015|500||2A8EE0688413416FA735|998834|||4032020151240885624\n",
      "\n",
      "['C00088591', 'N', 'M3', 'P', '15970306895', '15', 'IND', 'BURCH, MARY K.', 'FALLS CHURCH', 'VA', '220424511', 'NORTHROP GRUMMAN', 'VP PROGRAM MANAGEMENT', '02132015', '500', '', '2A8EE0688413416FA735', '998834', '', '', '4032020151240885624\\n']\n",
      "{'CMTE_ID': 'C00088591', 'AMNDT_IND': 'N', 'RPT_TP': 'M3', 'TRANSACTION_PGI': 'P', 'IMAGE_NUM': '15970306895', 'TRANSACTION_TP': '15', 'ENTITY_TP': 'IND', 'NAME': 'BURCH, MARY K.', 'CITY': 'FALLS CHURCH', 'STATE': 'VA', 'ZIP_CODE': '220424511', 'EMPLOYER': 'NORTHROP GRUMMAN', 'OCCUPATION': 'VP PROGRAM MANAGEMENT', 'TRANSACTION_DT': '02132015', 'TRANSACTION_AMT': '500', 'OTHER_ID': '', 'TRAN_ID': '2A8EE0688413416FA735', 'FILE_NUM': '998834', 'MEMO_CD': '', 'MEMO_TEXT': '', 'SUB_ID': '4032020151240885624\\n'}\n"
     ]
    }
   ],
   "source": [
    "with open(\"itcont.txt\", \"r\") as fn:\n",
    "    line = fn.readline()\n",
    "    print(line)\n",
    "    print(line.split(\"|\"))\n",
    "    print(dict(zip(headers,line.split(\"|\"))))"
   ]
  },
  {
   "cell_type": "code",
   "execution_count": 18,
   "id": "024ac2c4",
   "metadata": {},
   "outputs": [],
   "source": [
    "bernie_cmt = 'C00577130'\n",
    "cruz_cmt = 'C00574624'\n",
    "\n",
    "bernie = []\n",
    "cruz = []\n",
    "with open(\"itcont.txt\", \"r\") as fn:\n",
    "    for line in fn:\n",
    "        line_list = line.split(\"|\")\n",
    "        if line_list[0] != bernie_cmt and line_list[0] != cruz_cmt:\n",
    "            continue\n",
    "        \n",
    "        data = dict(zip(headers, line_list))\n",
    "        if data.get('CMTE_ID') == bernie_cmt:\n",
    "            bernie.append(data)\n",
    "        else:\n",
    "            cruz.append(data)"
   ]
  },
  {
   "cell_type": "code",
   "execution_count": 22,
   "id": "87ca0319",
   "metadata": {},
   "outputs": [],
   "source": [
    "len(bernie)\n",
    "with open(\"bernie-2015-2016-FEC.csv\", \"w\", newline=\"\") as out:\n",
    "    dict_writer = csv.DictWriter(out, bernie[0].keys())\n",
    "    dict_writer.writeheader()\n",
    "    dict_writer.writerows(bernie)"
   ]
  },
  {
   "cell_type": "code",
   "execution_count": 23,
   "id": "6ef8dfa5",
   "metadata": {},
   "outputs": [],
   "source": [
    "len(cruz)\n",
    "with open(\"cruz-2015-2016-FEC.csv\", \"w\", newline=\"\") as out:\n",
    "    dict_writer = csv.DictWriter(out, cruz[0].keys())\n",
    "    dict_writer.writeheader()\n",
    "    dict_writer.writerows(cruz)"
   ]
  },
  {
   "cell_type": "code",
   "execution_count": null,
   "id": "67261054",
   "metadata": {},
   "outputs": [],
   "source": []
  }
 ],
 "metadata": {
  "kernelspec": {
   "display_name": "Python 3 (ipykernel)",
   "language": "python",
   "name": "python3"
  },
  "language_info": {
   "codemirror_mode": {
    "name": "ipython",
    "version": 3
   },
   "file_extension": ".py",
   "mimetype": "text/x-python",
   "name": "python",
   "nbconvert_exporter": "python",
   "pygments_lexer": "ipython3",
   "version": "3.8.12"
  }
 },
 "nbformat": 4,
 "nbformat_minor": 5
}
